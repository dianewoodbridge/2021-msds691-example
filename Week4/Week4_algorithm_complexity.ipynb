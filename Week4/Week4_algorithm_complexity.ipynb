{
 "cells": [
  {
   "cell_type": "code",
   "execution_count": 1,
   "metadata": {
    "ExecuteTime": {
     "end_time": "2021-09-17T06:31:45.051276Z",
     "start_time": "2021-09-17T06:31:45.049087Z"
    }
   },
   "outputs": [],
   "source": [
    "import math"
   ]
  },
  {
   "cell_type": "code",
   "execution_count": 2,
   "metadata": {
    "ExecuteTime": {
     "end_time": "2021-09-17T06:31:45.055128Z",
     "start_time": "2021-09-17T06:31:45.053303Z"
    }
   },
   "outputs": [],
   "source": [
    "nums = sorted([1, 2, 3, 4])\n",
    "num_to_find = 4"
   ]
  },
  {
   "cell_type": "code",
   "execution_count": 3,
   "metadata": {
    "ExecuteTime": {
     "end_time": "2021-09-17T06:31:45.059083Z",
     "start_time": "2021-09-17T06:31:45.056732Z"
    }
   },
   "outputs": [],
   "source": [
    "def linear_search(nums, num_to_find):\n",
    "    for num in nums:\n",
    "        if(num == num_to_find):\n",
    "            return(\"found\")\n",
    "    return(\"not found\")"
   ]
  },
  {
   "cell_type": "code",
   "execution_count": 4,
   "metadata": {
    "ExecuteTime": {
     "end_time": "2021-09-17T06:31:45.068264Z",
     "start_time": "2021-09-17T06:31:45.060711Z"
    }
   },
   "outputs": [
    {
     "data": {
      "text/plain": [
       "'found'"
      ]
     },
     "execution_count": 4,
     "metadata": {},
     "output_type": "execute_result"
    }
   ],
   "source": [
    "linear_search(nums, num_to_find)"
   ]
  },
  {
   "cell_type": "code",
   "execution_count": 5,
   "metadata": {
    "ExecuteTime": {
     "end_time": "2021-09-17T06:31:45.072934Z",
     "start_time": "2021-09-17T06:31:45.069709Z"
    }
   },
   "outputs": [],
   "source": [
    "def binary_search(nums, num_to_find):    \n",
    "    start_index = 0\n",
    "    end_index = len(nums) - 1\n",
    "\n",
    "    while(start_index <= end_index):\n",
    "        mid_index = math.floor((start_index + end_index)/2)\n",
    "        \n",
    "        if(nums[mid_index] == num_to_find):\n",
    "            return ('found')\n",
    "        elif (nums[mid_index] < num_to_find):\n",
    "            start_index = mid_index + 1\n",
    "        else:\n",
    "            end_index = mid_index - 1\n",
    "    return(\"not found\")"
   ]
  },
  {
   "cell_type": "code",
   "execution_count": 6,
   "metadata": {
    "ExecuteTime": {
     "end_time": "2021-09-17T06:31:45.077847Z",
     "start_time": "2021-09-17T06:31:45.074763Z"
    }
   },
   "outputs": [
    {
     "data": {
      "text/plain": [
       "'found'"
      ]
     },
     "execution_count": 6,
     "metadata": {},
     "output_type": "execute_result"
    }
   ],
   "source": [
    "binary_search(nums, 4)"
   ]
  },
  {
   "cell_type": "code",
   "execution_count": null,
   "metadata": {},
   "outputs": [],
   "source": []
  }
 ],
 "metadata": {
  "kernelspec": {
   "display_name": "Python 3",
   "language": "python",
   "name": "python3"
  },
  "language_info": {
   "codemirror_mode": {
    "name": "ipython",
    "version": 3
   },
   "file_extension": ".py",
   "mimetype": "text/x-python",
   "name": "python",
   "nbconvert_exporter": "python",
   "pygments_lexer": "ipython3",
   "version": "3.8.2"
  },
  "varInspector": {
   "cols": {
    "lenName": 16,
    "lenType": 16,
    "lenVar": 40
   },
   "kernels_config": {
    "python": {
     "delete_cmd_postfix": "",
     "delete_cmd_prefix": "del ",
     "library": "var_list.py",
     "varRefreshCmd": "print(var_dic_list())"
    },
    "r": {
     "delete_cmd_postfix": ") ",
     "delete_cmd_prefix": "rm(",
     "library": "var_list.r",
     "varRefreshCmd": "cat(var_dic_list()) "
    }
   },
   "types_to_exclude": [
    "module",
    "function",
    "builtin_function_or_method",
    "instance",
    "_Feature"
   ],
   "window_display": false
  }
 },
 "nbformat": 4,
 "nbformat_minor": 4
}
