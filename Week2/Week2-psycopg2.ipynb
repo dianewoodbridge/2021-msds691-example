{
 "cells": [
  {
   "cell_type": "code",
   "execution_count": 1,
   "metadata": {
    "ExecuteTime": {
     "end_time": "2020-10-17T20:01:12.207381Z",
     "start_time": "2020-10-17T20:01:12.190039Z"
    }
   },
   "outputs": [],
   "source": [
    "import psycopg2\n",
    "from user_input import * "
   ]
  },
  {
   "cell_type": "code",
   "execution_count": 2,
   "metadata": {},
   "outputs": [
    {
     "data": {
      "text/plain": [
       "'127.0.0.1'"
      ]
     },
     "execution_count": 2,
     "metadata": {},
     "output_type": "execute_result"
    }
   ],
   "source": [
    "host"
   ]
  },
  {
   "cell_type": "markdown",
   "metadata": {},
   "source": [
    "## Connect to a database\n",
    "if you have a password, add password = \"password\""
   ]
  },
  {
   "cell_type": "code",
   "execution_count": 3,
   "metadata": {
    "ExecuteTime": {
     "end_time": "2020-10-17T20:09:44.290295Z",
     "start_time": "2020-10-17T20:09:44.240741Z"
    }
   },
   "outputs": [],
   "source": [
    "conn = psycopg2.connect(host = host, port = port, database=database, user = user)"
   ]
  },
  {
   "cell_type": "markdown",
   "metadata": {
    "ExecuteTime": {
     "end_time": "2020-10-17T19:41:29.419780Z",
     "start_time": "2020-10-17T19:41:29.413016Z"
    }
   },
   "source": [
    "## Open a cursor to perform database operations"
   ]
  },
  {
   "cell_type": "code",
   "execution_count": 4,
   "metadata": {
    "ExecuteTime": {
     "end_time": "2020-10-17T20:30:34.834309Z",
     "start_time": "2020-10-17T20:30:34.831791Z"
    }
   },
   "outputs": [],
   "source": [
    "cur = conn.cursor()"
   ]
  },
  {
   "cell_type": "markdown",
   "metadata": {},
   "source": [
    "## Query the database and obtain data as Python objects"
   ]
  },
  {
   "cell_type": "code",
   "execution_count": 5,
   "metadata": {},
   "outputs": [
    {
     "data": {
      "text/plain": [
       "60190002"
      ]
     },
     "execution_count": 5,
     "metadata": {},
     "output_type": "execute_result"
    }
   ],
   "source": [
    "site_id"
   ]
  },
  {
   "cell_type": "code",
   "execution_count": 6,
   "metadata": {},
   "outputs": [],
   "source": [
    "query = f'''SELECT * FROM epa_site_location WHERE site_id = {site_id}'''"
   ]
  },
  {
   "cell_type": "code",
   "execution_count": 7,
   "metadata": {
    "ExecuteTime": {
     "end_time": "2020-10-17T20:30:35.654296Z",
     "start_time": "2020-10-17T20:30:35.651931Z"
    }
   },
   "outputs": [],
   "source": [
    "cur.execute(query)"
   ]
  },
  {
   "cell_type": "code",
   "execution_count": 8,
   "metadata": {
    "ExecuteTime": {
     "end_time": "2020-10-17T20:09:45.263459Z",
     "start_time": "2020-10-17T20:09:45.260257Z"
    }
   },
   "outputs": [
    {
     "data": {
      "text/plain": [
       "[]"
      ]
     },
     "execution_count": 8,
     "metadata": {},
     "output_type": "execute_result"
    }
   ],
   "source": [
    "cur.fetchall()"
   ]
  },
  {
   "cell_type": "code",
   "execution_count": 9,
   "metadata": {
    "ExecuteTime": {
     "end_time": "2020-10-17T20:09:46.432996Z",
     "start_time": "2020-10-17T20:09:46.429755Z"
    }
   },
   "outputs": [
    {
     "data": {
      "text/plain": [
       "[]"
      ]
     },
     "execution_count": 9,
     "metadata": {},
     "output_type": "execute_result"
    }
   ],
   "source": [
    "cur.fetchall()"
   ]
  },
  {
   "cell_type": "markdown",
   "metadata": {},
   "source": [
    "## If your queries include updates such as insert, delete, or update, you need to commit (no autocommit) or  to cancel,  rollback"
   ]
  },
  {
   "cell_type": "markdown",
   "metadata": {},
   "source": [
    "### Increment site_id by 1 for \"site_na.me\"."
   ]
  },
  {
   "cell_type": "code",
   "execution_count": 10,
   "metadata": {},
   "outputs": [
    {
     "data": {
      "text/plain": [
       "[(60190007, 'Fresno-Drummond', 36.705475, -119.74133, 'Fresno', 'California')]"
      ]
     },
     "execution_count": 10,
     "metadata": {},
     "output_type": "execute_result"
    }
   ],
   "source": [
    "cur.execute(f\"\"\"SELECT * FROM epa_site_location WHERE site_name = '{site_name}'\"\"\")\n",
    "data = cur.fetchall()\n",
    "data"
   ]
  },
  {
   "cell_type": "code",
   "execution_count": 11,
   "metadata": {
    "ExecuteTime": {
     "end_time": "2020-10-17T20:09:25.342184Z",
     "start_time": "2020-10-17T20:09:25.338703Z"
    }
   },
   "outputs": [],
   "source": [
    "cur.execute(\"SELECT site_id FROM epa_site_location ORDER BY site_id DESC\")\n",
    "data = cur.fetchall()\n",
    "sid_list = []\n",
    "for item in data:\n",
    "    sid_list.append(item[0])\n",
    "\n",
    "for sid in sid_list:\n",
    "    query = f\"\"\"UPDATE epa_site_location SET site_id = {sid + 1} WHERE site_id = {sid}\"\"\"\n",
    "    cur.execute(query)"
   ]
  },
  {
   "cell_type": "code",
   "execution_count": 12,
   "metadata": {
    "ExecuteTime": {
     "end_time": "2020-10-17T20:09:26.268271Z",
     "start_time": "2020-10-17T20:09:26.264969Z"
    }
   },
   "outputs": [
    {
     "data": {
      "text/plain": [
       "[(60190008, 'Fresno-Drummond', 36.705475, -119.74133, 'Fresno', 'California')]"
      ]
     },
     "execution_count": 12,
     "metadata": {},
     "output_type": "execute_result"
    }
   ],
   "source": [
    "cur.execute(f\"\"\"SELECT * FROM epa_site_location WHERE site_name = '{site_name}'\"\"\")\n",
    "data = cur.fetchall()\n",
    "data"
   ]
  },
  {
   "cell_type": "code",
   "execution_count": 13,
   "metadata": {
    "ExecuteTime": {
     "end_time": "2020-10-17T20:09:04.459721Z",
     "start_time": "2020-10-17T20:09:04.457117Z"
    }
   },
   "outputs": [],
   "source": [
    "conn.rollback() #or conn.commit() for commiting changes"
   ]
  },
  {
   "cell_type": "code",
   "execution_count": 14,
   "metadata": {},
   "outputs": [
    {
     "data": {
      "text/plain": [
       "[(60190007, 'Fresno-Drummond', 36.705475, -119.74133, 'Fresno', 'California')]"
      ]
     },
     "execution_count": 14,
     "metadata": {},
     "output_type": "execute_result"
    }
   ],
   "source": [
    "cur.execute(f\"\"\"SELECT * FROM epa_site_location WHERE site_name = '{site_name}'\"\"\")\n",
    "data = cur.fetchall()\n",
    "data"
   ]
  },
  {
   "cell_type": "markdown",
   "metadata": {},
   "source": [
    "## Close communication with the database"
   ]
  },
  {
   "cell_type": "code",
   "execution_count": 15,
   "metadata": {
    "ExecuteTime": {
     "end_time": "2020-10-17T20:09:41.061096Z",
     "start_time": "2020-10-17T20:09:41.058613Z"
    }
   },
   "outputs": [],
   "source": [
    "cur.close()\n",
    "conn.close()"
   ]
  },
  {
   "cell_type": "code",
   "execution_count": 16,
   "metadata": {
    "ExecuteTime": {
     "end_time": "2020-10-17T20:09:41.726436Z",
     "start_time": "2020-10-17T20:09:41.723097Z"
    }
   },
   "outputs": [
    {
     "data": {
      "text/plain": [
       "<connection object at 0x7fbc08216040; dsn: 'host=127.0.0.1 port=5432 user=postgres dbname=msds691', closed: 1>"
      ]
     },
     "execution_count": 16,
     "metadata": {},
     "output_type": "execute_result"
    }
   ],
   "source": [
    "conn"
   ]
  },
  {
   "cell_type": "code",
   "execution_count": null,
   "metadata": {},
   "outputs": [],
   "source": []
  }
 ],
 "metadata": {
  "kernelspec": {
   "display_name": "Python 3",
   "language": "python",
   "name": "python3"
  },
  "language_info": {
   "codemirror_mode": {
    "name": "ipython",
    "version": 3
   },
   "file_extension": ".py",
   "mimetype": "text/x-python",
   "name": "python",
   "nbconvert_exporter": "python",
   "pygments_lexer": "ipython3",
   "version": "3.8.2"
  },
  "varInspector": {
   "cols": {
    "lenName": 16,
    "lenType": 16,
    "lenVar": 40
   },
   "kernels_config": {
    "python": {
     "delete_cmd_postfix": "",
     "delete_cmd_prefix": "del ",
     "library": "var_list.py",
     "varRefreshCmd": "print(var_dic_list())"
    },
    "r": {
     "delete_cmd_postfix": ") ",
     "delete_cmd_prefix": "rm(",
     "library": "var_list.r",
     "varRefreshCmd": "cat(var_dic_list()) "
    }
   },
   "types_to_exclude": [
    "module",
    "function",
    "builtin_function_or_method",
    "instance",
    "_Feature"
   ],
   "window_display": false
  }
 },
 "nbformat": 4,
 "nbformat_minor": 4
}
